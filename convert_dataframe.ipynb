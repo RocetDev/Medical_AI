{
 "cells": [
  {
   "cell_type": "code",
   "execution_count": 2,
   "metadata": {},
   "outputs": [],
   "source": [
    "import pandas as pd\n",
    "import numpy as np"
   ]
  },
  {
   "cell_type": "code",
   "execution_count": 31,
   "metadata": {},
   "outputs": [],
   "source": [
    "s = 'MedicalRecordKey;MedicalRecordDate;PatientKey;Возраст;Пол;СпециальностьВрача;Жалобы;ПеренесенныеЗаболевания;ПеренесенныеОперации;ПринимаемыеПрепараты'\n",
    "columns = s.split(';')"
   ]
  },
  {
   "cell_type": "code",
   "execution_count": 32,
   "metadata": {},
   "outputs": [
    {
     "data": {
      "text/plain": [
       "['MedicalRecordKey',\n",
       " 'MedicalRecordDate',\n",
       " 'PatientKey',\n",
       " 'Возраст',\n",
       " 'Пол',\n",
       " 'СпециальностьВрача',\n",
       " 'Жалобы',\n",
       " 'ПеренесенныеЗаболевания',\n",
       " 'ПеренесенныеОперации',\n",
       " 'ПринимаемыеПрепараты']"
      ]
     },
     "execution_count": 32,
     "metadata": {},
     "output_type": "execute_result"
    }
   ],
   "source": [
    "columns"
   ]
  },
  {
   "cell_type": "code",
   "execution_count": 41,
   "metadata": {},
   "outputs": [
    {
     "data": {
      "text/plain": [
       "[]"
      ]
     },
     "execution_count": 41,
     "metadata": {},
     "output_type": "execute_result"
    }
   ],
   "source": [
    "with open(r'C:\\Users\\RocetDev\\Desktop\\da.txt', encoding=\"utf8\") as file:\n",
    "    notes = file.readlines()\n",
    "    \n",
    "    \n",
    "    "
   ]
  }
 ],
 "metadata": {
  "kernelspec": {
   "display_name": "Python 3",
   "language": "python",
   "name": "python3"
  },
  "language_info": {
   "codemirror_mode": {
    "name": "ipython",
    "version": 3
   },
   "file_extension": ".py",
   "mimetype": "text/x-python",
   "name": "python",
   "nbconvert_exporter": "python",
   "pygments_lexer": "ipython3",
   "version": "3.10.0"
  }
 },
 "nbformat": 4,
 "nbformat_minor": 2
}
