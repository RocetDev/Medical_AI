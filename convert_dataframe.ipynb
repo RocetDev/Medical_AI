{
 "cells": [
  {
   "cell_type": "code",
   "execution_count": 2,
   "metadata": {},
   "outputs": [],
   "source": [
    "import pandas as pd\n",
    "import numpy as np"
   ]
  },
  {
   "cell_type": "code",
   "execution_count": 31,
   "metadata": {},
   "outputs": [],
   "source": [
    "s = 'MedicalRecordKey;MedicalRecordDate;PatientKey;Возраст;Пол;СпециальностьВрача;Жалобы;ПеренесенныеЗаболевания;ПеренесенныеОперации;ПринимаемыеПрепараты'\n",
    "columns = s.split(';')"
   ]
  },
  {
   "cell_type": "code",
   "execution_count": 50,
   "metadata": {},
   "outputs": [
    {
     "data": {
      "text/plain": [
       "10"
      ]
     },
     "execution_count": 50,
     "metadata": {},
     "output_type": "execute_result"
    }
   ],
   "source": [
    "len(columns)"
   ]
  },
  {
   "cell_type": "code",
   "execution_count": 78,
   "metadata": {},
   "outputs": [],
   "source": [
    "med_notes = []"
   ]
  },
  {
   "cell_type": "code",
   "execution_count": 79,
   "metadata": {},
   "outputs": [],
   "source": [
    "with open(r'C:\\Users\\RocetDev\\Desktop\\da.txt', encoding=\"utf8\") as file:\n",
    "    notes = file.readlines()\n",
    "    for elem in notes:\n",
    "        t = elem.replace('\\n', '').split(';')\n",
    "        med_notes.append(t)\n",
    "    \n",
    "    "
   ]
  },
  {
   "cell_type": "code",
   "execution_count": 80,
   "metadata": {},
   "outputs": [],
   "source": [
    "data = pd.DataFrame(med_notes)"
   ]
  },
  {
   "cell_type": "code",
   "execution_count": 81,
   "metadata": {},
   "outputs": [],
   "source": [
    "data = data.drop(columns=[10, 11, 12, 13, 14, 15, 16, 17, 18, 19, 20, 21, 22, 23])"
   ]
  },
  {
   "cell_type": "code",
   "execution_count": 82,
   "metadata": {},
   "outputs": [
    {
     "data": {
      "text/plain": [
       "{0: 'MedicalRecordKey',\n",
       " 1: 'MedicalRecordDate',\n",
       " 2: 'PatientKey',\n",
       " 3: 'Возраст',\n",
       " 4: 'Пол',\n",
       " 5: 'СпециальностьВрача',\n",
       " 6: 'Жалобы',\n",
       " 7: 'ПеренесенныеЗаболевания',\n",
       " 8: 'ПеренесенныеОперации',\n",
       " 9: 'ПринимаемыеПрепараты'}"
      ]
     },
     "execution_count": 82,
     "metadata": {},
     "output_type": "execute_result"
    }
   ],
   "source": [
    "columns_dict = dict()\n",
    "for i in range(10):\n",
    "    columns_dict[i] = columns[i]\n",
    "    \n",
    "columns_dict"
   ]
  },
  {
   "cell_type": "code",
   "execution_count": 83,
   "metadata": {},
   "outputs": [],
   "source": [
    "data = data.rename(columns=columns_dict)\n",
    "data = data.drop(index=[0])\n",
    "data = data.reset_index(drop=True)"
   ]
  },
  {
   "cell_type": "code",
   "execution_count": 84,
   "metadata": {},
   "outputs": [
    {
     "data": {
      "text/html": [
       "<div>\n",
       "<style scoped>\n",
       "    .dataframe tbody tr th:only-of-type {\n",
       "        vertical-align: middle;\n",
       "    }\n",
       "\n",
       "    .dataframe tbody tr th {\n",
       "        vertical-align: top;\n",
       "    }\n",
       "\n",
       "    .dataframe thead th {\n",
       "        text-align: right;\n",
       "    }\n",
       "</style>\n",
       "<table border=\"1\" class=\"dataframe\">\n",
       "  <thead>\n",
       "    <tr style=\"text-align: right;\">\n",
       "      <th></th>\n",
       "      <th>MedicalRecordKey</th>\n",
       "      <th>MedicalRecordDate</th>\n",
       "      <th>PatientKey</th>\n",
       "      <th>Возраст</th>\n",
       "      <th>Пол</th>\n",
       "      <th>СпециальностьВрача</th>\n",
       "      <th>Жалобы</th>\n",
       "      <th>ПеренесенныеЗаболевания</th>\n",
       "      <th>ПеренесенныеОперации</th>\n",
       "      <th>ПринимаемыеПрепараты</th>\n",
       "    </tr>\n",
       "  </thead>\n",
       "  <tbody>\n",
       "    <tr>\n",
       "      <th>0</th>\n",
       "      <td>106627476</td>\n",
       "      <td>2023-09-01 18:39:46.000</td>\n",
       "      <td>0xA52FAC0660E364A3BD2338AD6749D320FF3E08338230...</td>\n",
       "      <td>9764</td>\n",
       "      <td>1</td>\n",
       "      <td>Врач акушер гинеколог</td>\n",
       "      <td>на мажущие  выделения из половых путей</td>\n",
       "      <td>Факт получения травм, ожогов, ран, проведения ...</td>\n",
       "      <td>Отрицает</td>\n",
       "      <td>Левотироксин 75 мкг/сут</td>\n",
       "    </tr>\n",
       "    <tr>\n",
       "      <th>1</th>\n",
       "      <td>106627477</td>\n",
       "      <td>2023-09-01 18:39:45.000</td>\n",
       "      <td>0xC03852BF5FDC992B86A87B1215BC47EBF66C1AB03F6D...</td>\n",
       "      <td>13814</td>\n",
       "      <td>1</td>\n",
       "      <td>Врач уролог</td>\n",
       "      <td>на дискомфорт при мочеиспускании на учащенное ...</td>\n",
       "      <td>Факт получения травм, ожогов, ран, проведения ...</td>\n",
       "      <td>\" аппендэктомия 2013.  кесарево  сечение -  пр...</td>\n",
       "      <td>монурал, канефрон.</td>\n",
       "    </tr>\n",
       "    <tr>\n",
       "      <th>2</th>\n",
       "      <td>106627482</td>\n",
       "      <td>2023-09-01 18:39:53.000</td>\n",
       "      <td>0x417FA75C8DAD480F952C6931B305A0218311A4BE61E2...</td>\n",
       "      <td>10311</td>\n",
       "      <td>0</td>\n",
       "      <td>Врач дерматовенеролог</td>\n",
       "      <td>На покраснение и шелушение кожи головы.</td>\n",
       "      <td>ГЭРБ ЖДА</td>\n",
       "      <td>-</td>\n",
       "      <td>Колекальльциферол - 4000 МЕ Калия йодид Мальто...</td>\n",
       "    </tr>\n",
       "    <tr>\n",
       "      <th>3</th>\n",
       "      <td>106627486</td>\n",
       "      <td>2023-09-01 18:39:57.000</td>\n",
       "      <td>0x922886B7EA4058AC1BA576BEC37C24A4A2E8AB65E912...</td>\n",
       "      <td>22669</td>\n",
       "      <td>1</td>\n",
       "      <td>Врач кардиолог</td>\n",
       "      <td>Подписано информированное добровольное согласи...</td>\n",
       "      <td>узловой зоб</td>\n",
       "      <td>аппендицит в 15-летнем возрасте, удаление кист...</td>\n",
       "      <td>на пенициллиновый ряд - отек квинке, сульфанил...</td>\n",
       "    </tr>\n",
       "    <tr>\n",
       "      <th>4</th>\n",
       "      <td>106627490</td>\n",
       "      <td>2023-09-01 18:40:03.000</td>\n",
       "      <td>0xFAB438E0CA9FFC5CFF28E0B33914E95FEE9524108639...</td>\n",
       "      <td>15586</td>\n",
       "      <td>1</td>\n",
       "      <td>Врач акушер гинеколог</td>\n",
       "      <td>Жалобы на болезненность и нагрубание правой мо...</td>\n",
       "      <td>Факт получения травм, ожогов, ран, проведения ...</td>\n",
       "      <td>аппендэктомия  в 5 лет  Импланты молочных желе...</td>\n",
       "      <td>Не отягощен</td>\n",
       "    </tr>\n",
       "  </tbody>\n",
       "</table>\n",
       "</div>"
      ],
      "text/plain": [
       "  MedicalRecordKey        MedicalRecordDate  \\\n",
       "0        106627476  2023-09-01 18:39:46.000   \n",
       "1        106627477  2023-09-01 18:39:45.000   \n",
       "2        106627482  2023-09-01 18:39:53.000   \n",
       "3        106627486  2023-09-01 18:39:57.000   \n",
       "4        106627490  2023-09-01 18:40:03.000   \n",
       "\n",
       "                                          PatientKey Возраст Пол  \\\n",
       "0  0xA52FAC0660E364A3BD2338AD6749D320FF3E08338230...    9764   1   \n",
       "1  0xC03852BF5FDC992B86A87B1215BC47EBF66C1AB03F6D...   13814   1   \n",
       "2  0x417FA75C8DAD480F952C6931B305A0218311A4BE61E2...   10311   0   \n",
       "3  0x922886B7EA4058AC1BA576BEC37C24A4A2E8AB65E912...   22669   1   \n",
       "4  0xFAB438E0CA9FFC5CFF28E0B33914E95FEE9524108639...   15586   1   \n",
       "\n",
       "      СпециальностьВрача                                             Жалобы  \\\n",
       "0  Врач акушер гинеколог             на мажущие  выделения из половых путей   \n",
       "1            Врач уролог  на дискомфорт при мочеиспускании на учащенное ...   \n",
       "2  Врач дерматовенеролог            На покраснение и шелушение кожи головы.   \n",
       "3         Врач кардиолог  Подписано информированное добровольное согласи...   \n",
       "4  Врач акушер гинеколог  Жалобы на болезненность и нагрубание правой мо...   \n",
       "\n",
       "                             ПеренесенныеЗаболевания  \\\n",
       "0  Факт получения травм, ожогов, ран, проведения ...   \n",
       "1  Факт получения травм, ожогов, ран, проведения ...   \n",
       "2                                           ГЭРБ ЖДА   \n",
       "3                                        узловой зоб   \n",
       "4  Факт получения травм, ожогов, ран, проведения ...   \n",
       "\n",
       "                                ПеренесенныеОперации  \\\n",
       "0                                           Отрицает   \n",
       "1  \" аппендэктомия 2013.  кесарево  сечение -  пр...   \n",
       "2                                                  -   \n",
       "3  аппендицит в 15-летнем возрасте, удаление кист...   \n",
       "4  аппендэктомия  в 5 лет  Импланты молочных желе...   \n",
       "\n",
       "                                ПринимаемыеПрепараты  \n",
       "0                            Левотироксин 75 мкг/сут  \n",
       "1                                 монурал, канефрон.  \n",
       "2  Колекальльциферол - 4000 МЕ Калия йодид Мальто...  \n",
       "3  на пенициллиновый ряд - отек квинке, сульфанил...  \n",
       "4                                        Не отягощен  "
      ]
     },
     "execution_count": 84,
     "metadata": {},
     "output_type": "execute_result"
    }
   ],
   "source": [
    "data.head()"
   ]
  },
  {
   "cell_type": "code",
   "execution_count": 85,
   "metadata": {},
   "outputs": [],
   "source": [
    "data.to_csv('medical_data.csv', index=False)"
   ]
  },
  {
   "cell_type": "code",
   "execution_count": 86,
   "metadata": {},
   "outputs": [
    {
     "data": {
      "text/html": [
       "<div>\n",
       "<style scoped>\n",
       "    .dataframe tbody tr th:only-of-type {\n",
       "        vertical-align: middle;\n",
       "    }\n",
       "\n",
       "    .dataframe tbody tr th {\n",
       "        vertical-align: top;\n",
       "    }\n",
       "\n",
       "    .dataframe thead th {\n",
       "        text-align: right;\n",
       "    }\n",
       "</style>\n",
       "<table border=\"1\" class=\"dataframe\">\n",
       "  <thead>\n",
       "    <tr style=\"text-align: right;\">\n",
       "      <th></th>\n",
       "      <th>MedicalRecordKey</th>\n",
       "      <th>MedicalRecordDate</th>\n",
       "      <th>PatientKey</th>\n",
       "      <th>Возраст</th>\n",
       "      <th>Пол</th>\n",
       "      <th>СпециальностьВрача</th>\n",
       "      <th>Жалобы</th>\n",
       "      <th>ПеренесенныеЗаболевания</th>\n",
       "      <th>ПеренесенныеОперации</th>\n",
       "      <th>ПринимаемыеПрепараты</th>\n",
       "    </tr>\n",
       "  </thead>\n",
       "  <tbody>\n",
       "    <tr>\n",
       "      <th>0</th>\n",
       "      <td>106627476</td>\n",
       "      <td>2023-09-01 18:39:46.000</td>\n",
       "      <td>0xA52FAC0660E364A3BD2338AD6749D320FF3E08338230...</td>\n",
       "      <td>9764</td>\n",
       "      <td>1.0</td>\n",
       "      <td>Врач акушер гинеколог</td>\n",
       "      <td>на мажущие  выделения из половых путей</td>\n",
       "      <td>Факт получения травм, ожогов, ран, проведения ...</td>\n",
       "      <td>Отрицает</td>\n",
       "      <td>Левотироксин 75 мкг/сут</td>\n",
       "    </tr>\n",
       "    <tr>\n",
       "      <th>1</th>\n",
       "      <td>106627477</td>\n",
       "      <td>2023-09-01 18:39:45.000</td>\n",
       "      <td>0xC03852BF5FDC992B86A87B1215BC47EBF66C1AB03F6D...</td>\n",
       "      <td>13814</td>\n",
       "      <td>1.0</td>\n",
       "      <td>Врач уролог</td>\n",
       "      <td>на дискомфорт при мочеиспускании на учащенное ...</td>\n",
       "      <td>Факт получения травм, ожогов, ран, проведения ...</td>\n",
       "      <td>\" аппендэктомия 2013.  кесарево  сечение -  пр...</td>\n",
       "      <td>монурал, канефрон.</td>\n",
       "    </tr>\n",
       "    <tr>\n",
       "      <th>2</th>\n",
       "      <td>106627482</td>\n",
       "      <td>2023-09-01 18:39:53.000</td>\n",
       "      <td>0x417FA75C8DAD480F952C6931B305A0218311A4BE61E2...</td>\n",
       "      <td>10311</td>\n",
       "      <td>0.0</td>\n",
       "      <td>Врач дерматовенеролог</td>\n",
       "      <td>На покраснение и шелушение кожи головы.</td>\n",
       "      <td>ГЭРБ ЖДА</td>\n",
       "      <td>-</td>\n",
       "      <td>Колекальльциферол - 4000 МЕ Калия йодид Мальто...</td>\n",
       "    </tr>\n",
       "    <tr>\n",
       "      <th>3</th>\n",
       "      <td>106627486</td>\n",
       "      <td>2023-09-01 18:39:57.000</td>\n",
       "      <td>0x922886B7EA4058AC1BA576BEC37C24A4A2E8AB65E912...</td>\n",
       "      <td>22669</td>\n",
       "      <td>1.0</td>\n",
       "      <td>Врач кардиолог</td>\n",
       "      <td>Подписано информированное добровольное согласи...</td>\n",
       "      <td>узловой зоб</td>\n",
       "      <td>аппендицит в 15-летнем возрасте, удаление кист...</td>\n",
       "      <td>на пенициллиновый ряд - отек квинке, сульфанил...</td>\n",
       "    </tr>\n",
       "    <tr>\n",
       "      <th>4</th>\n",
       "      <td>106627490</td>\n",
       "      <td>2023-09-01 18:40:03.000</td>\n",
       "      <td>0xFAB438E0CA9FFC5CFF28E0B33914E95FEE9524108639...</td>\n",
       "      <td>15586</td>\n",
       "      <td>1.0</td>\n",
       "      <td>Врач акушер гинеколог</td>\n",
       "      <td>Жалобы на болезненность и нагрубание правой мо...</td>\n",
       "      <td>Факт получения травм, ожогов, ран, проведения ...</td>\n",
       "      <td>аппендэктомия  в 5 лет  Импланты молочных желе...</td>\n",
       "      <td>Не отягощен</td>\n",
       "    </tr>\n",
       "  </tbody>\n",
       "</table>\n",
       "</div>"
      ],
      "text/plain": [
       "   MedicalRecordKey        MedicalRecordDate  \\\n",
       "0         106627476  2023-09-01 18:39:46.000   \n",
       "1         106627477  2023-09-01 18:39:45.000   \n",
       "2         106627482  2023-09-01 18:39:53.000   \n",
       "3         106627486  2023-09-01 18:39:57.000   \n",
       "4         106627490  2023-09-01 18:40:03.000   \n",
       "\n",
       "                                          PatientKey  Возраст  Пол  \\\n",
       "0  0xA52FAC0660E364A3BD2338AD6749D320FF3E08338230...     9764  1.0   \n",
       "1  0xC03852BF5FDC992B86A87B1215BC47EBF66C1AB03F6D...    13814  1.0   \n",
       "2  0x417FA75C8DAD480F952C6931B305A0218311A4BE61E2...    10311  0.0   \n",
       "3  0x922886B7EA4058AC1BA576BEC37C24A4A2E8AB65E912...    22669  1.0   \n",
       "4  0xFAB438E0CA9FFC5CFF28E0B33914E95FEE9524108639...    15586  1.0   \n",
       "\n",
       "      СпециальностьВрача                                             Жалобы  \\\n",
       "0  Врач акушер гинеколог             на мажущие  выделения из половых путей   \n",
       "1            Врач уролог  на дискомфорт при мочеиспускании на учащенное ...   \n",
       "2  Врач дерматовенеролог            На покраснение и шелушение кожи головы.   \n",
       "3         Врач кардиолог  Подписано информированное добровольное согласи...   \n",
       "4  Врач акушер гинеколог  Жалобы на болезненность и нагрубание правой мо...   \n",
       "\n",
       "                             ПеренесенныеЗаболевания  \\\n",
       "0  Факт получения травм, ожогов, ран, проведения ...   \n",
       "1  Факт получения травм, ожогов, ран, проведения ...   \n",
       "2                                           ГЭРБ ЖДА   \n",
       "3                                        узловой зоб   \n",
       "4  Факт получения травм, ожогов, ран, проведения ...   \n",
       "\n",
       "                                ПеренесенныеОперации  \\\n",
       "0                                           Отрицает   \n",
       "1  \" аппендэктомия 2013.  кесарево  сечение -  пр...   \n",
       "2                                                  -   \n",
       "3  аппендицит в 15-летнем возрасте, удаление кист...   \n",
       "4  аппендэктомия  в 5 лет  Импланты молочных желе...   \n",
       "\n",
       "                                ПринимаемыеПрепараты  \n",
       "0                            Левотироксин 75 мкг/сут  \n",
       "1                                 монурал, канефрон.  \n",
       "2  Колекальльциферол - 4000 МЕ Калия йодид Мальто...  \n",
       "3  на пенициллиновый ряд - отек квинке, сульфанил...  \n",
       "4                                        Не отягощен  "
      ]
     },
     "execution_count": 86,
     "metadata": {},
     "output_type": "execute_result"
    }
   ],
   "source": [
    "test = pd.read_csv('medical_data.csv')\n",
    "test.head()"
   ]
  },
  {
   "cell_type": "code",
   "execution_count": null,
   "metadata": {},
   "outputs": [],
   "source": []
  }
 ],
 "metadata": {
  "kernelspec": {
   "display_name": "Python 3",
   "language": "python",
   "name": "python3"
  },
  "language_info": {
   "codemirror_mode": {
    "name": "ipython",
    "version": 3
   },
   "file_extension": ".py",
   "mimetype": "text/x-python",
   "name": "python",
   "nbconvert_exporter": "python",
   "pygments_lexer": "ipython3",
   "version": "3.10.0"
  }
 },
 "nbformat": 4,
 "nbformat_minor": 2
}
